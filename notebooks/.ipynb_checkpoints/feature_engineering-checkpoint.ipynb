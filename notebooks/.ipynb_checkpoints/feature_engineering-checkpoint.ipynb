{
 "cells": [
  {
   "cell_type": "markdown",
   "id": "1b2b8fb5-a022-4a69-91c3-8adb091ef152",
   "metadata": {},
   "source": [
    "# News-Based Features Engineering\n",
    "\n",
    "This notebook creates comprehensive features from news data for stock price prediction models."
   ]
  },
  {
   "cell_type": "code",
   "execution_count": 91,
   "id": "948ca1da-a64d-4aa5-b0ca-16b2f3a65d89",
   "metadata": {},
   "outputs": [],
   "source": [
    "import pandas as pd\n",
    "import numpy as np\n",
    "\n",
    "# Load the cleaned news data\n",
    "file_path = \"../data/cleaned/cleaned_news_data.csv\"\n",
    "news_df = pd.read_csv(file_path)"
   ]
  },
  {
   "cell_type": "markdown",
   "id": "aaa9f177-8a61-42ca-a071-6df9eeb180ce",
   "metadata": {},
   "source": [
    "## 1. Daily Average Sentiment\n",
    "\n",
    "It creates a single aggregate value from the day's news, which reduces noise. In reality, there is a lot of news in a day, but not all of it is relevant – the average helps to extract the general market sentiment."
   ]
  },
  {
   "cell_type": "code",
   "execution_count": 92,
   "id": "d1a084be-4e4f-4f01-ac33-d02917668357",
   "metadata": {},
   "outputs": [
    {
     "data": {
      "text/html": [
       "<div>\n",
       "<style scoped>\n",
       "    .dataframe tbody tr th:only-of-type {\n",
       "        vertical-align: middle;\n",
       "    }\n",
       "\n",
       "    .dataframe tbody tr th {\n",
       "        vertical-align: top;\n",
       "    }\n",
       "\n",
       "    .dataframe thead th {\n",
       "        text-align: right;\n",
       "    }\n",
       "</style>\n",
       "<table border=\"1\" class=\"dataframe\">\n",
       "  <thead>\n",
       "    <tr style=\"text-align: right;\">\n",
       "      <th></th>\n",
       "      <th>Date</th>\n",
       "      <th>avg_sentiment</th>\n",
       "    </tr>\n",
       "  </thead>\n",
       "  <tbody>\n",
       "    <tr>\n",
       "      <th>0</th>\n",
       "      <td>2025-04-27</td>\n",
       "      <td>0.98990</td>\n",
       "    </tr>\n",
       "    <tr>\n",
       "      <th>1</th>\n",
       "      <td>2025-04-28</td>\n",
       "      <td>0.99530</td>\n",
       "    </tr>\n",
       "    <tr>\n",
       "      <th>2</th>\n",
       "      <td>2025-04-29</td>\n",
       "      <td>0.18228</td>\n",
       "    </tr>\n",
       "    <tr>\n",
       "      <th>3</th>\n",
       "      <td>2025-04-30</td>\n",
       "      <td>0.55374</td>\n",
       "    </tr>\n",
       "    <tr>\n",
       "      <th>4</th>\n",
       "      <td>2025-05-01</td>\n",
       "      <td>0.44300</td>\n",
       "    </tr>\n",
       "  </tbody>\n",
       "</table>\n",
       "</div>"
      ],
      "text/plain": [
       "         Date  avg_sentiment\n",
       "0  2025-04-27        0.98990\n",
       "1  2025-04-28        0.99530\n",
       "2  2025-04-29        0.18228\n",
       "3  2025-04-30        0.55374\n",
       "4  2025-05-01        0.44300"
      ]
     },
     "execution_count": 92,
     "metadata": {},
     "output_type": "execute_result"
    }
   ],
   "source": [
    "daily_avg_sentiment_score = news_df.groupby(\"Date\").agg(\n",
    "    avg_sentiment = (\"Sentiment Score\", \"Mean\")\n",
    ").reset_index()\n",
    "\n",
    "daily_avg_sentiment_score.head()"
   ]
  },
  {
   "cell_type": "markdown",
   "id": "9e5b4e10-a1d4-4706-9eb5-f8051ebfbc2b",
   "metadata": {},
   "source": [
    "## 2. Positive and Negative News Count\n",
    "\n",
    "Count daily positive and negative articles based on sentiment thresholds.\n"
   ]
  },
  {
   "cell_type": "code",
   "execution_count": 93,
   "id": "9bbff44d-af98-4f38-820a-00d1e4090363",
   "metadata": {},
   "outputs": [
    {
     "data": {
      "text/html": [
       "<div>\n",
       "<style scoped>\n",
       "    .dataframe tbody tr th:only-of-type {\n",
       "        vertical-align: middle;\n",
       "    }\n",
       "\n",
       "    .dataframe tbody tr th {\n",
       "        vertical-align: top;\n",
       "    }\n",
       "\n",
       "    .dataframe thead th {\n",
       "        text-align: right;\n",
       "    }\n",
       "</style>\n",
       "<table border=\"1\" class=\"dataframe\">\n",
       "  <thead>\n",
       "    <tr style=\"text-align: right;\">\n",
       "      <th></th>\n",
       "      <th>Date</th>\n",
       "      <th>n_positive</th>\n",
       "      <th>n_negative</th>\n",
       "      <th>total_articles</th>\n",
       "    </tr>\n",
       "  </thead>\n",
       "  <tbody>\n",
       "    <tr>\n",
       "      <th>0</th>\n",
       "      <td>2025-04-27</td>\n",
       "      <td>1</td>\n",
       "      <td>0</td>\n",
       "      <td>1</td>\n",
       "    </tr>\n",
       "    <tr>\n",
       "      <th>1</th>\n",
       "      <td>2025-04-28</td>\n",
       "      <td>2</td>\n",
       "      <td>0</td>\n",
       "      <td>2</td>\n",
       "    </tr>\n",
       "    <tr>\n",
       "      <th>2</th>\n",
       "      <td>2025-04-29</td>\n",
       "      <td>3</td>\n",
       "      <td>2</td>\n",
       "      <td>5</td>\n",
       "    </tr>\n",
       "    <tr>\n",
       "      <th>3</th>\n",
       "      <td>2025-04-30</td>\n",
       "      <td>4</td>\n",
       "      <td>1</td>\n",
       "      <td>5</td>\n",
       "    </tr>\n",
       "    <tr>\n",
       "      <th>4</th>\n",
       "      <td>2025-05-01</td>\n",
       "      <td>7</td>\n",
       "      <td>2</td>\n",
       "      <td>9</td>\n",
       "    </tr>\n",
       "  </tbody>\n",
       "</table>\n",
       "</div>"
      ],
      "text/plain": [
       "         Date  n_positive  n_negative  total_articles\n",
       "0  2025-04-27           1           0               1\n",
       "1  2025-04-28           2           0               2\n",
       "2  2025-04-29           3           2               5\n",
       "3  2025-04-30           4           1               5\n",
       "4  2025-05-01           7           2               9"
      ]
     },
     "execution_count": 93,
     "metadata": {},
     "output_type": "execute_result"
    }
   ],
   "source": [
    "news_df[\"is_positive\"] = news_df[\"Sentiment Score\"] > 0.05\n",
    "news_df[\"is_negative\"] = news_df[\"Sentiment Score\"] < -0.05\n",
    "\n",
    "counts_ = news_df.groupby(\"Date\").agg(\n",
    "    n_positive = (\"N of Positive\", \"sum\"),\n",
    "    n_negative = (\"N of Negative\", \"sum\"),\n",
    "    total_articles = (\"Sentiment Score\", \"count\")\n",
    ").reset_index()\n",
    "\n",
    "counts_.head()"
   ]
  },
  {
   "cell_type": "markdown",
   "id": "volatility_section",
   "metadata": {},
   "source": [
    "## 3. Sentiment Volatility (Standard Deviation)\n",
    "\n",
    "Calculate daily sentiment volatility to measure uncertainty and mixed signals in news."
   ]
  },
  {
   "cell_type": "code",
   "execution_count": 94,
   "id": "volatility_code",
   "metadata": {},
   "outputs": [
    {
     "data": {
      "text/html": [
       "<div>\n",
       "<style scoped>\n",
       "    .dataframe tbody tr th:only-of-type {\n",
       "        vertical-align: middle;\n",
       "    }\n",
       "\n",
       "    .dataframe tbody tr th {\n",
       "        vertical-align: top;\n",
       "    }\n",
       "\n",
       "    .dataframe thead th {\n",
       "        text-align: right;\n",
       "    }\n",
       "</style>\n",
       "<table border=\"1\" class=\"dataframe\">\n",
       "  <thead>\n",
       "    <tr style=\"text-align: right;\">\n",
       "      <th></th>\n",
       "      <th>Date</th>\n",
       "      <th>Sentiment_std</th>\n",
       "    </tr>\n",
       "  </thead>\n",
       "  <tbody>\n",
       "    <tr>\n",
       "      <th>0</th>\n",
       "      <td>2025-04-27</td>\n",
       "      <td>NaN</td>\n",
       "    </tr>\n",
       "    <tr>\n",
       "      <th>1</th>\n",
       "      <td>2025-04-28</td>\n",
       "      <td>0.004525</td>\n",
       "    </tr>\n",
       "    <tr>\n",
       "      <th>2</th>\n",
       "      <td>2025-04-29</td>\n",
       "      <td>0.868658</td>\n",
       "    </tr>\n",
       "    <tr>\n",
       "      <th>3</th>\n",
       "      <td>2025-04-30</td>\n",
       "      <td>0.847931</td>\n",
       "    </tr>\n",
       "    <tr>\n",
       "      <th>4</th>\n",
       "      <td>2025-05-01</td>\n",
       "      <td>0.823665</td>\n",
       "    </tr>\n",
       "  </tbody>\n",
       "</table>\n",
       "</div>"
      ],
      "text/plain": [
       "         Date  Sentiment_std\n",
       "0  2025-04-27            NaN\n",
       "1  2025-04-28       0.004525\n",
       "2  2025-04-29       0.868658\n",
       "3  2025-04-30       0.847931\n",
       "4  2025-05-01       0.823665"
      ]
     },
     "execution_count": 94,
     "metadata": {},
     "output_type": "execute_result"
    }
   ],
   "source": [
    "volatility = news_df.groupby(\"Date\")[\"Sentiment Score\"].std().reset_index(name=\"Sentiment std\")\n",
    "volatility.head()"
   ]
  },
  {
   "cell_type": "markdown",
   "id": "e083794c-2b3c-4bf7-a4ac-a09988f57d8b",
   "metadata": {},
   "source": [
    "## 4. News Volume per Day"
   ]
  },
  {
   "cell_type": "code",
   "execution_count": 95,
   "id": "8e266567-ad54-428a-aa67-d9b911d13afd",
   "metadata": {},
   "outputs": [],
   "source": [
    "news_volume = news_df.groupby(\"Date\").size().reset_index(name=\"N of News\")"
   ]
  },
  {
   "cell_type": "markdown",
   "id": "4d8b1417-2f89-4d64-9519-8a1905b0d420",
   "metadata": {},
   "source": [
    "## 5. Polarity Ratio \n",
    "It is not only the amount of positive or negative news that matters, but also the ratio between them."
   ]
  },
  {
   "cell_type": "code",
   "execution_count": 96,
   "id": "524cf997-148b-4f5a-bd99-56f5b05c13d3",
   "metadata": {},
   "outputs": [],
   "source": [
    "polarity_ratio = counts_.copy()\n",
    "polarity_ratio[\"Polarity Ratio\"] = polarity_ratio[\"N of Positive\"] / (polarity_ratio[\"N of Positive\"] + polarity_ratio[\"N of Negative\"] + 1e-5)"
   ]
  },
  {
   "cell_type": "markdown",
   "id": "a2cd09bc-7978-4be8-b022-55143b841835",
   "metadata": {},
   "source": [
    "# Stock-Based Features Engineering\n"
   ]
  },
  {
   "cell_type": "code",
   "execution_count": 97,
   "id": "7565f574-e0d2-48d8-be50-db574e642e1b",
   "metadata": {},
   "outputs": [],
   "source": [
    "file_path = \"../data/cleaned/cleaned_stock_data.csv\"\n",
    "stock_df = pd.read_csv(file_path)"
   ]
  },
  {
   "cell_type": "markdown",
   "id": "07fffd65-334d-453c-8fe6-3a810dd9b927",
   "metadata": {},
   "source": [
    "## 1. Intraday return\n",
    "The movement between opening and closing – the trend for the day."
   ]
  },
  {
   "cell_type": "code",
   "execution_count": 98,
   "id": "3bb8aa07-a6be-42ee-b90c-1735d3c2d759",
   "metadata": {},
   "outputs": [
    {
     "data": {
      "text/plain": [
       "0     0.000667\n",
       "1     0.012075\n",
       "2     0.015289\n",
       "3     0.020279\n",
       "4    -0.003591\n",
       "5    -0.020729\n",
       "6     0.001513\n",
       "7    -0.014661\n",
       "8    -0.001163\n",
       "9    -0.002362\n",
       "10   -0.000853\n",
       "11    0.011880\n",
       "12   -0.000471\n",
       "13    0.002370\n",
       "14   -0.005180\n",
       "15    0.004184\n",
       "16   -0.003900\n",
       "17   -0.015012\n",
       "18    0.003238\n",
       "19    0.008262\n",
       "20    0.001563\n",
       "Name: Intraday return, dtype: float64"
      ]
     },
     "execution_count": 98,
     "metadata": {},
     "output_type": "execute_result"
    }
   ],
   "source": [
    "stock_df[\"Intraday Return\"] = (stock_df[\"Close\"] - stock_df[\"Open\"]) / stock_df[\"Open\"]\n",
    "stock_df[\"Intraday Return\"]"
   ]
  },
  {
   "cell_type": "markdown",
   "id": "e1fd7ce9-1447-4de9-a29c-0f375461b669",
   "metadata": {},
   "source": [
    "## 2. Next-day return\n",
    " Looking back tomorrow, how accurate was today's news (prediction goal!)."
   ]
  },
  {
   "cell_type": "code",
   "execution_count": 99,
   "id": "fbfd7ee6-ee42-4a18-884b-e1d8bd693ccf",
   "metadata": {},
   "outputs": [
    {
     "data": {
      "text/plain": [
       "0     0.005092\n",
       "1     0.006108\n",
       "2     0.003859\n",
       "3    -0.037362\n",
       "4    -0.031458\n",
       "5    -0.001911\n",
       "6    -0.011385\n",
       "7     0.006319\n",
       "8     0.005266\n",
       "9     0.063146\n",
       "10    0.010152\n",
       "11   -0.002818\n",
       "12   -0.004145\n",
       "13   -0.000899\n",
       "14   -0.011739\n",
       "15   -0.009196\n",
       "16   -0.023059\n",
       "17   -0.003612\n",
       "18   -0.030244\n",
       "19    0.017105\n",
       "20         NaN\n",
       "Name: Next Day Return, dtype: float64"
      ]
     },
     "execution_count": 99,
     "metadata": {},
     "output_type": "execute_result"
    }
   ],
   "source": [
    "stock_df[\"Next Close\"] = stock_df[\"Close\"].shift(-1)\n",
    "stock_df[\"Next Day Return\"] = (stock_df[\"Next Close\"] - stock_df[\"Close\"]) / stock_df[\"Close\"]\n",
    "stock_df[\"Next Day Return\"]"
   ]
  },
  {
   "cell_type": "markdown",
   "id": "8c8e78a6-54f9-4b05-be6a-b96c512a7c8b",
   "metadata": {},
   "source": [
    "## 3. Gap up/down\n",
    "It measures whether the news had an impact during the overnight period (when the stock market was closed)."
   ]
  },
  {
   "cell_type": "code",
   "execution_count": 100,
   "id": "3ea51105-feb8-4a62-84d6-cbd8ce7a3906",
   "metadata": {},
   "outputs": [
    {
     "data": {
      "text/plain": [
       "0          NaN\n",
       "1    -0.006900\n",
       "2    -0.009043\n",
       "3    -0.016094\n",
       "4    -0.033893\n",
       "5    -0.010957\n",
       "6    -0.003419\n",
       "7     0.003325\n",
       "8     0.007490\n",
       "9     0.007646\n",
       "10    0.064054\n",
       "11   -0.001708\n",
       "12   -0.002348\n",
       "13   -0.006499\n",
       "14    0.004304\n",
       "15   -0.015857\n",
       "16   -0.005317\n",
       "17   -0.008170\n",
       "18   -0.006829\n",
       "19   -0.038190\n",
       "20    0.015517\n",
       "Name: Gap, dtype: float64"
      ]
     },
     "execution_count": 100,
     "metadata": {},
     "output_type": "execute_result"
    }
   ],
   "source": [
    "stock_df[\"Gap\"] = (stock_df[\"Open\"] - stock_df[\"Close\"].shift(1)) / stock_df[\"Close\"].shift(1)\n",
    "stock_df[\"Gap\"]"
   ]
  },
  {
   "cell_type": "markdown",
   "id": "a3d33a21-195c-41a6-a1b2-2eab11b52fa2",
   "metadata": {},
   "source": [
    "## 4. Volatility\n",
    "To measure longer-term instability. High value = risky period.\n"
   ]
  },
  {
   "cell_type": "code",
   "execution_count": 101,
   "id": "10b6a1f5-aeef-4067-81e3-cf353bfc6b90",
   "metadata": {},
   "outputs": [
    {
     "data": {
      "text/plain": [
       "0          NaN\n",
       "1          NaN\n",
       "2          NaN\n",
       "3          NaN\n",
       "4     3.122746\n",
       "5     6.086044\n",
       "6     7.105778\n",
       "7     6.940778\n",
       "8     3.529961\n",
       "9     1.074919\n",
       "10    6.044495\n",
       "11    8.124467\n",
       "12    7.861268\n",
       "13    6.139107\n",
       "14    0.863204\n",
       "15    1.587434\n",
       "16    2.256906\n",
       "17    3.851216\n",
       "18    4.269917\n",
       "19    5.279598\n",
       "20    4.303226\n",
       "Name: Volatility 5 Day, dtype: float64"
      ]
     },
     "execution_count": 101,
     "metadata": {},
     "output_type": "execute_result"
    }
   ],
   "source": [
    "stock_df[\"Volatility 5 Day\"] = stock_df[\"Close\"].rolling(5).std()\n",
    "stock_df[\"Volatility 5 Day\"]"
   ]
  },
  {
   "cell_type": "markdown",
   "id": "630d26b8-6d39-41ec-b0e1-2d0ff490c69f",
   "metadata": {},
   "source": [
    "## 5. Volume Change\n",
    "A sudden spike in volume may be accompanied by increased interest, speculation, or panic."
   ]
  },
  {
   "cell_type": "code",
   "execution_count": 102,
   "id": "b046d217-7194-4868-9749-20b9a2da75d7",
   "metadata": {},
   "outputs": [
    {
     "data": {
      "text/plain": [
       "0          NaN\n",
       "1    -0.049441\n",
       "2     0.419764\n",
       "3     0.097142\n",
       "4     0.760819\n",
       "5    -0.316720\n",
       "6    -0.257931\n",
       "7     0.338176\n",
       "8    -0.263476\n",
       "9    -0.277839\n",
       "10    0.749492\n",
       "11   -0.186066\n",
       "12   -0.049770\n",
       "13   -0.087100\n",
       "14    0.215601\n",
       "15   -0.157065\n",
       "16   -0.078974\n",
       "17    0.393330\n",
       "18   -0.210590\n",
       "19    0.675455\n",
       "20   -0.845467\n",
       "Name: Volume Change, dtype: float64"
      ]
     },
     "execution_count": 102,
     "metadata": {},
     "output_type": "execute_result"
    }
   ],
   "source": [
    "stock_df[\"Volume Change\"] = stock_df[\"Volume\"].pct_change()\n",
    "stock_df[\"Volume Change\"]"
   ]
  },
  {
   "cell_type": "markdown",
   "id": "merge-section",
   "metadata": {},
   "source": [
    "# Merge News and Stock Features\n",
    "\n",
    "Combine all created features into a single dataset for modeling"
   ]
  },
  {
   "cell_type": "code",
   "execution_count": 103,
   "id": "b04e2973-1c1b-446a-ae9a-1e51db95cc5e",
   "metadata": {},
   "outputs": [
    {
     "data": {
      "text/html": [
       "<div>\n",
       "<style scoped>\n",
       "    .dataframe tbody tr th:only-of-type {\n",
       "        vertical-align: middle;\n",
       "    }\n",
       "\n",
       "    .dataframe tbody tr th {\n",
       "        vertical-align: top;\n",
       "    }\n",
       "\n",
       "    .dataframe thead th {\n",
       "        text-align: right;\n",
       "    }\n",
       "</style>\n",
       "<table border=\"1\" class=\"dataframe\">\n",
       "  <thead>\n",
       "    <tr style=\"text-align: right;\">\n",
       "      <th></th>\n",
       "      <th>Date</th>\n",
       "      <th>avg_sentiment</th>\n",
       "      <th>n_positive</th>\n",
       "      <th>n_negative</th>\n",
       "      <th>total_articles</th>\n",
       "      <th>Sentiment_std</th>\n",
       "      <th>n_news</th>\n",
       "      <th>polarity_ratio</th>\n",
       "      <th>Intraday return</th>\n",
       "      <th>Next Day Return</th>\n",
       "      <th>Gap</th>\n",
       "      <th>Volatility 5 Day</th>\n",
       "      <th>Volume Change</th>\n",
       "    </tr>\n",
       "  </thead>\n",
       "  <tbody>\n",
       "    <tr>\n",
       "      <th>0</th>\n",
       "      <td>2025-04-28</td>\n",
       "      <td>0.995300</td>\n",
       "      <td>2</td>\n",
       "      <td>0</td>\n",
       "      <td>2</td>\n",
       "      <td>0.004525</td>\n",
       "      <td>2</td>\n",
       "      <td>0.999995</td>\n",
       "      <td>0.000667</td>\n",
       "      <td>0.005092</td>\n",
       "      <td>NaN</td>\n",
       "      <td>NaN</td>\n",
       "      <td>NaN</td>\n",
       "    </tr>\n",
       "    <tr>\n",
       "      <th>1</th>\n",
       "      <td>2025-04-29</td>\n",
       "      <td>0.182280</td>\n",
       "      <td>3</td>\n",
       "      <td>2</td>\n",
       "      <td>5</td>\n",
       "      <td>0.868658</td>\n",
       "      <td>5</td>\n",
       "      <td>0.599999</td>\n",
       "      <td>0.012075</td>\n",
       "      <td>0.006108</td>\n",
       "      <td>-0.006900</td>\n",
       "      <td>NaN</td>\n",
       "      <td>-0.049441</td>\n",
       "    </tr>\n",
       "    <tr>\n",
       "      <th>2</th>\n",
       "      <td>2025-04-30</td>\n",
       "      <td>0.553740</td>\n",
       "      <td>4</td>\n",
       "      <td>1</td>\n",
       "      <td>5</td>\n",
       "      <td>0.847931</td>\n",
       "      <td>5</td>\n",
       "      <td>0.799998</td>\n",
       "      <td>0.015289</td>\n",
       "      <td>0.003859</td>\n",
       "      <td>-0.009043</td>\n",
       "      <td>NaN</td>\n",
       "      <td>0.419764</td>\n",
       "    </tr>\n",
       "    <tr>\n",
       "      <th>3</th>\n",
       "      <td>2025-05-01</td>\n",
       "      <td>0.443000</td>\n",
       "      <td>7</td>\n",
       "      <td>2</td>\n",
       "      <td>9</td>\n",
       "      <td>0.823665</td>\n",
       "      <td>9</td>\n",
       "      <td>0.777777</td>\n",
       "      <td>0.020279</td>\n",
       "      <td>-0.037362</td>\n",
       "      <td>-0.016094</td>\n",
       "      <td>NaN</td>\n",
       "      <td>0.097142</td>\n",
       "    </tr>\n",
       "    <tr>\n",
       "      <th>4</th>\n",
       "      <td>2025-05-02</td>\n",
       "      <td>0.647183</td>\n",
       "      <td>5</td>\n",
       "      <td>1</td>\n",
       "      <td>6</td>\n",
       "      <td>0.744187</td>\n",
       "      <td>6</td>\n",
       "      <td>0.833332</td>\n",
       "      <td>-0.003591</td>\n",
       "      <td>-0.031458</td>\n",
       "      <td>-0.033893</td>\n",
       "      <td>3.122746</td>\n",
       "      <td>0.760819</td>\n",
       "    </tr>\n",
       "  </tbody>\n",
       "</table>\n",
       "</div>"
      ],
      "text/plain": [
       "        Date  avg_sentiment  n_positive  n_negative  total_articles  \\\n",
       "0 2025-04-28       0.995300           2           0               2   \n",
       "1 2025-04-29       0.182280           3           2               5   \n",
       "2 2025-04-30       0.553740           4           1               5   \n",
       "3 2025-05-01       0.443000           7           2               9   \n",
       "4 2025-05-02       0.647183           5           1               6   \n",
       "\n",
       "   Sentiment_std  n_news  polarity_ratio  Intraday return  Next Day Return  \\\n",
       "0       0.004525       2        0.999995         0.000667         0.005092   \n",
       "1       0.868658       5        0.599999         0.012075         0.006108   \n",
       "2       0.847931       5        0.799998         0.015289         0.003859   \n",
       "3       0.823665       9        0.777777         0.020279        -0.037362   \n",
       "4       0.744187       6        0.833332        -0.003591        -0.031458   \n",
       "\n",
       "        Gap  Volatility 5 Day  Volume Change  \n",
       "0       NaN               NaN            NaN  \n",
       "1 -0.006900               NaN      -0.049441  \n",
       "2 -0.009043               NaN       0.419764  \n",
       "3 -0.016094               NaN       0.097142  \n",
       "4 -0.033893          3.122746       0.760819  "
      ]
     },
     "execution_count": 103,
     "metadata": {},
     "output_type": "execute_result"
    }
   ],
   "source": [
    "# Előkészület: Minden news alapú feature egyesítése\n",
    "news_features = daily_avg_sentiment_score\\\n",
    "    .merge(counts_, on=\"Date\", how=\"left\")\\\n",
    "    .merge(volatility, on=\"Date\", how=\"left\")\\\n",
    "    .merge(news_volume, on=\"Date\", how=\"left\")\\\n",
    "    .merge(polarity_ratio[[\"Date\", \"Polarity Ratio\"]], on=\"Date\", how=\"left\")\n",
    "\n",
    "# Formázzuk a dátumokat egységesre\n",
    "news_features[\"Date\"] = pd.to_datetime(news_features[\"Date\"])\n",
    "stock_df[\"Date\"] = pd.to_datetime(stock_df[\"Date\"])\n",
    "\n",
    "# Vágjuk le a stock_df-t, hogy csak a fontos oszlopokat tartalmazza\n",
    "stock_features = stock_df[[\n",
    "    \"Date\", \"Intraday return\", \"Next Day Return\", \"Gap\",\n",
    "    \"Volatility 5 Day\", \"Volume Change\"\n",
    "]]\n",
    "\n",
    "# Merge: összeolvasztjuk hírekből és árfolyamból származó jellemzőket\n",
    "final_features = news_features.merge(stock_features, on=\"Date\", how=\"inner\")\n",
    "\n",
    "# Mentés\n",
    "final_features.to_csv(\"../data/final/engineered_features.csv\", index=False)\n",
    "\n",
    "# Ellenőrzés\n",
    "final_features.head()\n"
   ]
  }
 ],
 "metadata": {
  "kernelspec": {
   "display_name": "Python 3 (ipykernel)",
   "language": "python",
   "name": "python3"
  },
  "language_info": {
   "codemirror_mode": {
    "name": "ipython",
    "version": 3
   },
   "file_extension": ".py",
   "mimetype": "text/x-python",
   "name": "python",
   "nbconvert_exporter": "python",
   "pygments_lexer": "ipython3",
   "version": "3.13.2"
  }
 },
 "nbformat": 4,
 "nbformat_minor": 5
}
