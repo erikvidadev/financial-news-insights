{
 "cells": [
  {
   "cell_type": "markdown",
   "id": "2c8014c5-3888-4ba9-baf5-09eb6eb4d59b",
   "metadata": {},
   "source": [
    "# EDA: Sentiment and Return Analysis\n",
    "\n",
    "This notebook performs exploratory data analysis (EDA) on engineered features related to news sentiment and next-day stock returns. It includes descriptive statistics, visualizations, correlation metrics, and rolling analysis.\n"
   ]
  },
  {
   "cell_type": "markdown",
   "id": "7fe627bf-7ba4-4bfa-aa0d-82dfa7f79a58",
   "metadata": {},
   "source": [
    "## 1. Import Required Libraries\n",
    "\n",
    "Import libraries for data manipulation (`pandas`, `numpy`), visualization (`matplotlib`, `seaborn`), and correlation computation (`scipy.stats`).\n"
   ]
  },
  {
   "cell_type": "code",
   "execution_count": null,
   "id": "485b3f31-c00f-4776-9515-be56b1f367a4",
   "metadata": {},
   "outputs": [],
   "source": [
    "import pandas as pd\n",
    "import numpy as np\n",
    "import matplotlib.pyplot as plt\n",
    "import seaborn as sns\n",
    "from scipy.stats import pearsonr, spearmanr"
   ]
  },
  {
   "cell_type": "markdown",
   "id": "78b12558-78b7-45ba-9501-6cedb1145c51",
   "metadata": {},
   "source": [
    "## 2. Set Plotting Style\n",
    "\n",
    "Configure visual styles for consistent and clean plots.\n"
   ]
  },
  {
   "cell_type": "code",
   "execution_count": null,
   "id": "cffeabea-6337-4355-9e2b-d4d5891fd237",
   "metadata": {},
   "outputs": [],
   "source": [
    "sns.set(style=\"whitegrid\")\n",
    "plt.rcParams['figure.figsize'] = (10, 6)"
   ]
  },
  {
   "cell_type": "markdown",
   "id": "c724f6d4-eb5b-4903-8cec-e3f7f99d7bb6",
   "metadata": {},
   "source": [
    "## 3. Load Engineered Dataset\n",
    "\n",
    "Load the final engineered features CSV file, parsing the `Date` column as a datetime object.\n"
   ]
  },
  {
   "cell_type": "code",
   "execution_count": null,
   "id": "b68ecdbf-d03a-4686-bb83-1161655bb83e",
   "metadata": {},
   "outputs": [],
   "source": [
    "data_frame = pd.read_csv(\"../data/final/engineered_features.csv\", parse_dates=[\"Date\"])"
   ]
  },
  {
   "cell_type": "markdown",
   "id": "298e6047-dc7f-482f-833b-fad6ad266ec0",
   "metadata": {},
   "source": [
    "## 4. Descriptive Statistics\n",
    "\n",
    "Generate and export summary statistics of the dataset to understand basic properties like mean, standard deviation, and quartiles.\n"
   ]
  },
  {
   "cell_type": "code",
   "execution_count": null,
   "id": "c854a4b6-426d-4bab-9f7f-87e1f027cfc8",
   "metadata": {},
   "outputs": [],
   "source": [
    "describe_data_frame = data_frame.describe(percentiles=[.25, .5, .75])\n",
    "describe_data_frame.to_csv(\"../reports/descriptive_stats.csv\")\n",
    "describe_data_frame"
   ]
  },
  {
   "cell_type": "markdown",
   "id": "bf7aacfc-c7a0-4c7e-a9cf-e2a0fd7c6549",
   "metadata": {},
   "source": [
    "## 5. Scatter Plot: Sentiment vs. Next Day Return\n",
    "\n",
    "Create a scatter plot to visualize the relationship between average sentiment and next day return.\n"
   ]
  },
  {
   "cell_type": "code",
   "execution_count": null,
   "id": "e704075c-27c0-414d-a5af-471014134279",
   "metadata": {},
   "outputs": [],
   "source": [
    "sns.scatterplot(data=merged, x=\"avg_sentiment\", y=\"Next Day Return\")\n",
    "plt.title(\"Sentiment vs. Next Day Return\")\n",
    "plt.savefig(\"../reports/scatter_sentiment_return.png\")\n",
    "plt.clf()"
   ]
  },
  {
   "cell_type": "markdown",
   "id": "a7d7c0df-926a-4844-84b9-73b279e404f5",
   "metadata": {},
   "source": [
    "## 6. Time Series Plot: Sentiment and Return Over Time\n",
    "\n",
    "Plot sentiment and next day return values over time using a dual-axis line chart.\n"
   ]
  },
  {
   "cell_type": "code",
   "execution_count": null,
   "id": "8e63edbd-3ccd-4a4e-8a41-9a85bb6b7a1f",
   "metadata": {},
   "outputs": [],
   "source": [
    "fig, ax1 = plt.subplots()\n",
    "\n",
    "ax1.set_xlabel('Date')\n",
    "ax1.set_ylabel('Sentiment', color='tab:blue')\n",
    "ax1.plot(merged['Date'], merged['sentiment'], color='tab:blue', label='Sentiment')\n",
    "ax1.tick_params(axis='y', labelcolor='tab:blue')\n",
    "\n",
    "ax2 = ax1.twinx()\n",
    "ax2.set_ylabel('Next Day Return', color='tab:red')\n",
    "ax2.plot(merged['Date'], merged['next_day_return'], color='tab:red', alpha=0.6, label='Return')\n",
    "ax2.tick_params(axis='y', labelcolor='tab:red')\n",
    "\n",
    "plt.title(\"Sentiment & Next Day Return over Time\")\n",
    "plt.savefig(\"../reports/figures/sentiment_return_over_time.png\")\n",
    "plt.clf()"
   ]
  },
  {
   "cell_type": "markdown",
   "id": "3709b7ff-fb4f-46f0-8ee1-633150431feb",
   "metadata": {},
   "source": [
    "## 7. Distribution Analysis\n",
    "\n",
    "Plot histograms with KDE to visualize the distributions of sentiment and next day return.\n"
   ]
  },
  {
   "cell_type": "code",
   "execution_count": null,
   "id": "0b938b4b-e183-40e5-9a6b-d385d6e4512a",
   "metadata": {},
   "outputs": [],
   "source": [
    "\n",
    "sns.histplot(merged['sentiment'], kde=True, bins=30)\n",
    "plt.title(\"Sentiment Distribution\")\n",
    "plt.savefig(\"../reports/figures/sentiment_distribution.png\")\n",
    "plt.clf()\n",
    "\n",
    "sns.histplot(merged['next_day_return'], kde=True, bins=30)\n",
    "plt.title(\"Next Day Return Distribution\")\n",
    "plt.savefig(\"../reports/figures/return_distribution.png\")\n",
    "plt.clf()"
   ]
  },
  {
   "cell_type": "markdown",
   "id": "8e018533-f3ce-4441-bb0f-fd174424faf7",
   "metadata": {},
   "source": [
    "## 8. Correlation Coefficients\n",
    "\n",
    "Compute Pearson and Spearman correlation between sentiment and next day return.\n"
   ]
  },
  {
   "cell_type": "code",
   "execution_count": null,
   "id": "8d8d1743-4360-484c-9b2b-b227476bafed",
   "metadata": {},
   "outputs": [],
   "source": [
    "pearson_corr, _ = pearsonr(merged['sentiment'], merged['next_day_return'])\n",
    "spearman_corr, _ = spearmanr(merged['sentiment'], merged['next_day_return'])\n",
    "\n",
    "print(f\"Pearson correlation: {pearson_corr:.3f}\")\n",
    "print(f\"Spearman correlation: {spearman_corr:.3f}\")"
   ]
  },
  {
   "cell_type": "markdown",
   "id": "c4f201f6-3a22-4a2f-a50c-c051521c5f5e",
   "metadata": {},
   "source": [
    "## 9. Rolling Correlation (30-Day Window)\n",
    "\n",
    "Calculate and plot a rolling window (30-day) correlation between sentiment and next day return to observe time-dependent relationships.\n"
   ]
  },
  {
   "cell_type": "code",
   "execution_count": null,
   "id": "bc421fbe-c070-46ff-b864-f542b26363c8",
   "metadata": {},
   "outputs": [],
   "source": [
    "merged['rolling_corr'] = merged['sentiment'].rolling(30).corr(merged['next_day_return'])\n",
    "\n",
    "plt.plot(merged['Date'], merged['rolling_corr'])\n",
    "plt.title(\"30-Day Rolling Correlation: Sentiment vs Return\")\n",
    "plt.ylabel(\"Correlation\")\n",
    "plt.xlabel(\"Date\")\n",
    "plt.savefig(\"../reports/figures/rolling_corr_sentiment_return.png\")\n",
    "plt.clf()"
   ]
  },
  {
   "cell_type": "markdown",
   "id": "5cd9d377-7a19-4f9f-8872-891f4cfc8425",
   "metadata": {},
   "source": [
    "## 10. Save Processed Data\n",
    "\n",
    "Export the merged dataset with rolling correlation to a new CSV file for further analysis or modeling.\n"
   ]
  },
  {
   "cell_type": "code",
   "execution_count": null,
   "id": "9a617a31-fbf6-4dd8-82b6-e7883703e6a8",
   "metadata": {},
   "outputs": [],
   "source": [
    "merged.to_csv(\"../data/processed/merged_with_corr.csv\", index=False)\n",
    "\n",
    "print(\"EDA kész ✅ Az ábrák mentve a reports/figures mappába.\")"
   ]
  }
 ],
 "metadata": {
  "kernelspec": {
   "display_name": "Python 3 (ipykernel)",
   "language": "python",
   "name": "python3"
  },
  "language_info": {
   "codemirror_mode": {
    "name": "ipython",
    "version": 3
   },
   "file_extension": ".py",
   "mimetype": "text/x-python",
   "name": "python",
   "nbconvert_exporter": "python",
   "pygments_lexer": "ipython3",
   "version": "3.13.2"
  }
 },
 "nbformat": 4,
 "nbformat_minor": 5
}
