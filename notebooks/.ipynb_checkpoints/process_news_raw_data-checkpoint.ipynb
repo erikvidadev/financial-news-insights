{
 "cells": [
  {
   "cell_type": "markdown",
   "id": "0329af86-e700-46ac-bd0a-d5dec59296d7",
   "metadata": {},
   "source": [
    "# Process Raw News Data About Nvidia\n",
    "\n",
    "This notebook processes raw JSON news data about Nvidia and related tech topics from TechCrunch articles. It:\n",
    "1. Loads the raw JSON data\n",
    "2. Normalizes and cleans the data into a pandas DataFrame\n",
    "3. Exports the processed data to CSV and Excel formats"
   ]
  },
  {
   "cell_type": "markdown",
   "id": "import-section",
   "metadata": {},
   "source": [
    "## Import Required Libraries"
   ]
  },
  {
   "cell_type": "code",
   "execution_count": 5,
   "id": "imports",
   "metadata": {},
   "outputs": [],
   "source": [
    "import pandas as pd\n",
    "import os\n",
    "from pathlib import Path"
   ]
  },
  {
   "cell_type": "markdown",
   "id": "config-section",
   "metadata": {},
   "source": [
    "## Configuration\n",
    "\n",
    "Define paths and settings to make the notebook more maintainable and configurable."
   ]
  },
  {
   "cell_type": "code",
   "execution_count": 6,
   "id": "configuration",
   "metadata": {},
   "outputs": [],
   "source": [
    "INPUT_PATH = Path('../data/raw/news_response_2025-04-11_2025-04-25.json')\n",
    "OUTPUT_DIR = Path('../data/processed')\n",
    "CSV_OUTPUT = OUTPUT_DIR / 'news_articles.csv'\n",
    "EXCEL_OUTPUT = OUTPUT_DIR / 'news_articles.xlsx'\n",
    "\n",
    "OUTPUT_DIR.mkdir(parents=True, exist_ok=True)\n",
    "\n",
    "SELECTED_COLUMNS = ['source.name', 'author', 'title', 'description', 'content', 'url']"
   ]
  },
  {
   "cell_type": "markdown",
   "id": "data-loading",
   "metadata": {},
   "source": [
    "## Data Loading and Processing\n",
    "\n",
    "Load the raw JSON news data and convert it to a structured DataFrame."
   ]
  },
  {
   "cell_type": "code",
   "execution_count": 7,
   "id": "load-data",
   "metadata": {},
   "outputs": [
    {
     "name": "stdout",
     "output_type": "stream",
     "text": [
      "Successfully loaded data with 10 news articles from TechCrunch.\n"
     ]
    }
   ],
   "source": [
    "def load_news_data(file_path):\n",
    "    \"\"\"Load news data from JSON file and extract articles.\"\"\"\n",
    "    try:\n",
    "        raw_data = pd.read_json(file_path)\n",
    "        return raw_data['articles']\n",
    "    except Exception as e:\n",
    "        print(f\"Error loading news data: {e}\")\n",
    "        return None\n",
    "\n",
    "# Load raw news data\n",
    "articles = load_news_data(INPUT_PATH)\n",
    "\n",
    "# Process into DataFrame\n",
    "if articles is not None:\n",
    "    df_news = pd.json_normalize(articles)\n",
    "    df_selected = df_news[SELECTED_COLUMNS]\n",
    "    \n",
    "    # Display info about the loaded data\n",
    "    source_counts = df_selected['source.name'].value_counts()\n",
    "    print(f\"Successfully loaded data with {len(df_selected)} news articles from {', '.join(source_counts.index)}.\")"
   ]
  },
  {
   "cell_type": "markdown",
   "id": "data-preview",
   "metadata": {},
   "source": [
    "## Preview the Processed Data"
   ]
  },
  {
   "cell_type": "code",
   "execution_count": 11,
   "id": "preview-data",
   "metadata": {},
   "outputs": [
    {
     "data": {
      "text/html": [
       "<div>\n",
       "<style scoped>\n",
       "    .dataframe tbody tr th:only-of-type {\n",
       "        vertical-align: middle;\n",
       "    }\n",
       "\n",
       "    .dataframe tbody tr th {\n",
       "        vertical-align: top;\n",
       "    }\n",
       "\n",
       "    .dataframe thead th {\n",
       "        text-align: right;\n",
       "    }\n",
       "</style>\n",
       "<table border=\"1\" class=\"dataframe\">\n",
       "  <thead>\n",
       "    <tr style=\"text-align: right;\">\n",
       "      <th></th>\n",
       "      <th>source.name</th>\n",
       "      <th>author</th>\n",
       "      <th>title</th>\n",
       "      <th>description</th>\n",
       "      <th>content</th>\n",
       "      <th>url</th>\n",
       "    </tr>\n",
       "  </thead>\n",
       "  <tbody>\n",
       "    <tr>\n",
       "      <th>0</th>\n",
       "      <td>TechCrunch</td>\n",
       "      <td>Anthony Ha</td>\n",
       "      <td>Trump exempts smartphones, laptops, and semico...</td>\n",
       "      <td>The Trump administration is carving out big ta...</td>\n",
       "      <td>The Trump administration is carving out big ta...</td>\n",
       "      <td>https://techcrunch.com/2025/04/12/trump-exempt...</td>\n",
       "    </tr>\n",
       "    <tr>\n",
       "      <th>1</th>\n",
       "      <td>TechCrunch</td>\n",
       "      <td>Rebecca Szkutak</td>\n",
       "      <td>US government imposes license requirement on N...</td>\n",
       "      <td>Nvidia's H20 was the most advanced AI chip the...</td>\n",
       "      <td>Semiconductor giant Nvidia is facing unexpecte...</td>\n",
       "      <td>https://techcrunch.com/2025/04/15/nvidia-h20-c...</td>\n",
       "    </tr>\n",
       "    <tr>\n",
       "      <th>2</th>\n",
       "      <td>TechCrunch</td>\n",
       "      <td>Kyle Wiggers</td>\n",
       "      <td>Nvidia says it plans to manufacture some AI ch...</td>\n",
       "      <td>Nvidia says that it has commissioned more than...</td>\n",
       "      <td>Nvidia says it has commissioned more than a mi...</td>\n",
       "      <td>https://techcrunch.com/2025/04/14/nvidia-says-...</td>\n",
       "    </tr>\n",
       "    <tr>\n",
       "      <th>3</th>\n",
       "      <td>TechCrunch</td>\n",
       "      <td>Ingrid Lunden</td>\n",
       "      <td>Hammerspace, an unstructured data wrangler use...</td>\n",
       "      <td>Artificial intelligence services at their hear...</td>\n",
       "      <td>Artificial intelligence services at their hear...</td>\n",
       "      <td>https://techcrunch.com/2025/04/16/hammerspace-...</td>\n",
       "    </tr>\n",
       "    <tr>\n",
       "      <th>4</th>\n",
       "      <td>TechCrunch</td>\n",
       "      <td>Rebecca Szkutak</td>\n",
       "      <td>Here are the 19 US AI startups that have raise...</td>\n",
       "      <td>U.S.-based AI startups continue to rake in ven...</td>\n",
       "      <td>Last year was monumental for the AI industry i...</td>\n",
       "      <td>https://techcrunch.com/2025/04/23/here-are-the...</td>\n",
       "    </tr>\n",
       "    <tr>\n",
       "      <th>5</th>\n",
       "      <td>TechCrunch</td>\n",
       "      <td>Kyle Wiggers</td>\n",
       "      <td>AMD takes $800M charge on US license requireme...</td>\n",
       "      <td>AMD says that the U.S. government's license co...</td>\n",
       "      <td>AMD says that the U.S. government’s license co...</td>\n",
       "      <td>https://techcrunch.com/2025/04/16/amd-takes-80...</td>\n",
       "    </tr>\n",
       "    <tr>\n",
       "      <th>6</th>\n",
       "      <td>TechCrunch</td>\n",
       "      <td>Kyle Wiggers</td>\n",
       "      <td>A Chinese AI video startup appears to be block...</td>\n",
       "      <td>A Chinese startup, Sand AI, appears to be bloc...</td>\n",
       "      <td>A China-based startup, Sand AI, has released a...</td>\n",
       "      <td>https://techcrunch.com/2025/04/22/a-chinese-ai...</td>\n",
       "    </tr>\n",
       "    <tr>\n",
       "      <th>7</th>\n",
       "      <td>TechCrunch</td>\n",
       "      <td>Karyne Levy</td>\n",
       "      <td>Week in Review: Google loses a major antitrust...</td>\n",
       "      <td>Welcome back to Week in Review! We've got tons...</td>\n",
       "      <td>Welcome back to Week in Review! We’ve got tons...</td>\n",
       "      <td>https://techcrunch.com/2025/04/19/week-in-revi...</td>\n",
       "    </tr>\n",
       "    <tr>\n",
       "      <th>8</th>\n",
       "      <td>TechCrunch</td>\n",
       "      <td>Kate Park</td>\n",
       "      <td>RLWRLD raises $14.8M to build a foundational m...</td>\n",
       "      <td>As robotics has advanced, industry has steadil...</td>\n",
       "      <td>As robotics has advanced, industry has steadil...</td>\n",
       "      <td>https://techcrunch.com/2025/04/14/rlwrld-raise...</td>\n",
       "    </tr>\n",
       "    <tr>\n",
       "      <th>9</th>\n",
       "      <td>TechCrunch</td>\n",
       "      <td>Dominic-madori Davis</td>\n",
       "      <td>Here are all the tech companies rolling back D...</td>\n",
       "      <td>Companies around America have started cutting ...</td>\n",
       "      <td>Companies around America have started cutting ...</td>\n",
       "      <td>https://techcrunch.com/2025/04/17/here-are-all...</td>\n",
       "    </tr>\n",
       "  </tbody>\n",
       "</table>\n",
       "</div>"
      ],
      "text/plain": [
       "  source.name                author  \\\n",
       "0  TechCrunch            Anthony Ha   \n",
       "1  TechCrunch       Rebecca Szkutak   \n",
       "2  TechCrunch          Kyle Wiggers   \n",
       "3  TechCrunch         Ingrid Lunden   \n",
       "4  TechCrunch       Rebecca Szkutak   \n",
       "5  TechCrunch          Kyle Wiggers   \n",
       "6  TechCrunch          Kyle Wiggers   \n",
       "7  TechCrunch           Karyne Levy   \n",
       "8  TechCrunch             Kate Park   \n",
       "9  TechCrunch  Dominic-madori Davis   \n",
       "\n",
       "                                               title  \\\n",
       "0  Trump exempts smartphones, laptops, and semico...   \n",
       "1  US government imposes license requirement on N...   \n",
       "2  Nvidia says it plans to manufacture some AI ch...   \n",
       "3  Hammerspace, an unstructured data wrangler use...   \n",
       "4  Here are the 19 US AI startups that have raise...   \n",
       "5  AMD takes $800M charge on US license requireme...   \n",
       "6  A Chinese AI video startup appears to be block...   \n",
       "7  Week in Review: Google loses a major antitrust...   \n",
       "8  RLWRLD raises $14.8M to build a foundational m...   \n",
       "9  Here are all the tech companies rolling back D...   \n",
       "\n",
       "                                         description  \\\n",
       "0  The Trump administration is carving out big ta...   \n",
       "1  Nvidia's H20 was the most advanced AI chip the...   \n",
       "2  Nvidia says that it has commissioned more than...   \n",
       "3  Artificial intelligence services at their hear...   \n",
       "4  U.S.-based AI startups continue to rake in ven...   \n",
       "5  AMD says that the U.S. government's license co...   \n",
       "6  A Chinese startup, Sand AI, appears to be bloc...   \n",
       "7  Welcome back to Week in Review! We've got tons...   \n",
       "8  As robotics has advanced, industry has steadil...   \n",
       "9  Companies around America have started cutting ...   \n",
       "\n",
       "                                             content  \\\n",
       "0  The Trump administration is carving out big ta...   \n",
       "1  Semiconductor giant Nvidia is facing unexpecte...   \n",
       "2  Nvidia says it has commissioned more than a mi...   \n",
       "3  Artificial intelligence services at their hear...   \n",
       "4  Last year was monumental for the AI industry i...   \n",
       "5  AMD says that the U.S. government’s license co...   \n",
       "6  A China-based startup, Sand AI, has released a...   \n",
       "7  Welcome back to Week in Review! We’ve got tons...   \n",
       "8  As robotics has advanced, industry has steadil...   \n",
       "9  Companies around America have started cutting ...   \n",
       "\n",
       "                                                 url  \n",
       "0  https://techcrunch.com/2025/04/12/trump-exempt...  \n",
       "1  https://techcrunch.com/2025/04/15/nvidia-h20-c...  \n",
       "2  https://techcrunch.com/2025/04/14/nvidia-says-...  \n",
       "3  https://techcrunch.com/2025/04/16/hammerspace-...  \n",
       "4  https://techcrunch.com/2025/04/23/here-are-the...  \n",
       "5  https://techcrunch.com/2025/04/16/amd-takes-80...  \n",
       "6  https://techcrunch.com/2025/04/22/a-chinese-ai...  \n",
       "7  https://techcrunch.com/2025/04/19/week-in-revi...  \n",
       "8  https://techcrunch.com/2025/04/14/rlwrld-raise...  \n",
       "9  https://techcrunch.com/2025/04/17/here-are-all...  "
      ]
     },
     "execution_count": 11,
     "metadata": {},
     "output_type": "execute_result"
    }
   ],
   "source": [
    "df_selected"
   ]
  },
  {
   "cell_type": "markdown",
   "id": "export-section",
   "metadata": {},
   "source": [
    "## Export Processed Data\n",
    "\n",
    "Save the processed data to CSV and Excel formats for further analysis."
   ]
  },
  {
   "cell_type": "code",
   "execution_count": 9,
   "id": "export-data",
   "metadata": {},
   "outputs": [
    {
     "name": "stdout",
     "output_type": "stream",
     "text": [
      "Data successfully exported to:\n",
      "- CSV: ../data/processed/news_articles.csv\n",
      "- Excel: ../data/processed/news_articles.xlsx\n"
     ]
    }
   ],
   "source": [
    "def export_data(df, csv_path, excel_path):\n",
    "    \"\"\"Export dataframe to CSV and Excel formats.\"\"\"\n",
    "    try:\n",
    "        # Export to CSV\n",
    "        df.to_csv(csv_path, index=False, encoding='utf-8')\n",
    "        \n",
    "        # Export to Excel\n",
    "        df.to_excel(excel_path, index=False)\n",
    "        \n",
    "        return True\n",
    "    except Exception as e:\n",
    "        print(f\"Error exporting data: {e}\")\n",
    "        return False\n",
    "\n",
    "# Export the data\n",
    "if export_data(df_selected, CSV_OUTPUT, EXCEL_OUTPUT):\n",
    "    print(f\"Data successfully exported to:\")\n",
    "    print(f\"- CSV: {CSV_OUTPUT}\")\n",
    "    print(f\"- Excel: {EXCEL_OUTPUT}\")"
   ]
  },
  {
   "cell_type": "markdown",
   "id": "conclusion",
   "metadata": {},
   "source": [
    "## Conclusion\n",
    "\n",
    "This notebook has successfully:\n",
    "1. Loaded raw news data from a JSON file\n",
    "2. Processed and normalized the data into a structured format\n",
    "3. Performed basic analysis on the dataset\n",
    "4. Exported the processed data to CSV and Excel formats for further use\n",
    "\n",
    "The processed data includes 10 TechCrunch articles from April 2025, with 2 directly related to Nvidia. The data can now be used for further analysis, sentiment analysis, or as part of a larger dataset for tech news tracking."
   ]
  }
 ],
 "metadata": {
  "kernelspec": {
   "display_name": "Python 3 (ipykernel)",
   "language": "python",
   "name": "python3"
  },
  "language_info": {
   "codemirror_mode": {
    "name": "ipython",
    "version": 3
   },
   "file_extension": ".py",
   "mimetype": "text/x-python",
   "name": "python",
   "nbconvert_exporter": "python",
   "pygments_lexer": "ipython3",
   "version": "3.13.2"
  }
 },
 "nbformat": 4,
 "nbformat_minor": 5
}
